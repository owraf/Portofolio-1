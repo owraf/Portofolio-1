{
 "cells": [
  {
   "cell_type": "code",
   "execution_count": 255,
   "metadata": {},
   "outputs": [],
   "source": [
    "import pandas as pd\n",
    "import numpy as np\n",
    "import seaborn as sns\n",
    "import matplotlib.pyplot as plt\n",
    "from sklearn.model_selection import train_test_split\n",
    "from sklearn.ensemble import RandomForestClassifier\n",
    "from sklearn.preprocessing import StandardScaler, LabelEncoder\n",
    "from sklearn.metrics import accuracy_score, classification_report, confusion_matrix, roc_curve, auc"
   ]
  },
  {
   "cell_type": "code",
   "execution_count": 256,
   "metadata": {},
   "outputs": [
    {
     "data": {
      "text/html": [
       "<div>\n",
       "<style scoped>\n",
       "    .dataframe tbody tr th:only-of-type {\n",
       "        vertical-align: middle;\n",
       "    }\n",
       "\n",
       "    .dataframe tbody tr th {\n",
       "        vertical-align: top;\n",
       "    }\n",
       "\n",
       "    .dataframe thead th {\n",
       "        text-align: right;\n",
       "    }\n",
       "</style>\n",
       "<table border=\"1\" class=\"dataframe\">\n",
       "  <thead>\n",
       "    <tr style=\"text-align: right;\">\n",
       "      <th></th>\n",
       "      <th>Order_ID</th>\n",
       "      <th>Agent_Age</th>\n",
       "      <th>Agent_Rating</th>\n",
       "      <th>Store_Latitude</th>\n",
       "      <th>Store_Longitude</th>\n",
       "      <th>Drop_Latitude</th>\n",
       "      <th>Drop_Longitude</th>\n",
       "      <th>Order_Date</th>\n",
       "      <th>Order_Time</th>\n",
       "      <th>Pickup_Time</th>\n",
       "      <th>Weather</th>\n",
       "      <th>Traffic</th>\n",
       "      <th>Vehicle</th>\n",
       "      <th>Area</th>\n",
       "      <th>Delivery_Time</th>\n",
       "      <th>Category</th>\n",
       "    </tr>\n",
       "  </thead>\n",
       "  <tbody>\n",
       "    <tr>\n",
       "      <th>0</th>\n",
       "      <td>ialx566343618</td>\n",
       "      <td>37</td>\n",
       "      <td>4.9</td>\n",
       "      <td>22.745049</td>\n",
       "      <td>75.892471</td>\n",
       "      <td>22.765049</td>\n",
       "      <td>75.912471</td>\n",
       "      <td>2022-03-19</td>\n",
       "      <td>11:30:00</td>\n",
       "      <td>11:45:00</td>\n",
       "      <td>Sunny</td>\n",
       "      <td>High</td>\n",
       "      <td>motorcycle</td>\n",
       "      <td>Urban</td>\n",
       "      <td>120</td>\n",
       "      <td>Clothing</td>\n",
       "    </tr>\n",
       "    <tr>\n",
       "      <th>1</th>\n",
       "      <td>akqg208421122</td>\n",
       "      <td>34</td>\n",
       "      <td>4.5</td>\n",
       "      <td>12.913041</td>\n",
       "      <td>77.683237</td>\n",
       "      <td>13.043041</td>\n",
       "      <td>77.813237</td>\n",
       "      <td>2022-03-25</td>\n",
       "      <td>19:45:00</td>\n",
       "      <td>19:50:00</td>\n",
       "      <td>Stormy</td>\n",
       "      <td>Jam</td>\n",
       "      <td>scooter</td>\n",
       "      <td>Metropolitian</td>\n",
       "      <td>165</td>\n",
       "      <td>Electronics</td>\n",
       "    </tr>\n",
       "    <tr>\n",
       "      <th>2</th>\n",
       "      <td>njpu434582536</td>\n",
       "      <td>23</td>\n",
       "      <td>4.4</td>\n",
       "      <td>12.914264</td>\n",
       "      <td>77.678400</td>\n",
       "      <td>12.924264</td>\n",
       "      <td>77.688400</td>\n",
       "      <td>2022-03-19</td>\n",
       "      <td>08:30:00</td>\n",
       "      <td>08:45:00</td>\n",
       "      <td>Sandstorms</td>\n",
       "      <td>Low</td>\n",
       "      <td>motorcycle</td>\n",
       "      <td>Urban</td>\n",
       "      <td>130</td>\n",
       "      <td>Sports</td>\n",
       "    </tr>\n",
       "    <tr>\n",
       "      <th>3</th>\n",
       "      <td>rjto796129700</td>\n",
       "      <td>38</td>\n",
       "      <td>4.7</td>\n",
       "      <td>11.003669</td>\n",
       "      <td>76.976494</td>\n",
       "      <td>11.053669</td>\n",
       "      <td>77.026494</td>\n",
       "      <td>2022-04-05</td>\n",
       "      <td>18:00:00</td>\n",
       "      <td>18:10:00</td>\n",
       "      <td>Sunny</td>\n",
       "      <td>Medium</td>\n",
       "      <td>motorcycle</td>\n",
       "      <td>Metropolitian</td>\n",
       "      <td>105</td>\n",
       "      <td>Cosmetics</td>\n",
       "    </tr>\n",
       "    <tr>\n",
       "      <th>4</th>\n",
       "      <td>zguw716275638</td>\n",
       "      <td>32</td>\n",
       "      <td>4.6</td>\n",
       "      <td>12.972793</td>\n",
       "      <td>80.249982</td>\n",
       "      <td>13.012793</td>\n",
       "      <td>80.289982</td>\n",
       "      <td>2022-03-26</td>\n",
       "      <td>13:30:00</td>\n",
       "      <td>13:45:00</td>\n",
       "      <td>Cloudy</td>\n",
       "      <td>High</td>\n",
       "      <td>scooter</td>\n",
       "      <td>Metropolitian</td>\n",
       "      <td>150</td>\n",
       "      <td>Toys</td>\n",
       "    </tr>\n",
       "    <tr>\n",
       "      <th>...</th>\n",
       "      <td>...</td>\n",
       "      <td>...</td>\n",
       "      <td>...</td>\n",
       "      <td>...</td>\n",
       "      <td>...</td>\n",
       "      <td>...</td>\n",
       "      <td>...</td>\n",
       "      <td>...</td>\n",
       "      <td>...</td>\n",
       "      <td>...</td>\n",
       "      <td>...</td>\n",
       "      <td>...</td>\n",
       "      <td>...</td>\n",
       "      <td>...</td>\n",
       "      <td>...</td>\n",
       "      <td>...</td>\n",
       "    </tr>\n",
       "    <tr>\n",
       "      <th>43734</th>\n",
       "      <td>jlxf819993117</td>\n",
       "      <td>30</td>\n",
       "      <td>4.8</td>\n",
       "      <td>26.902328</td>\n",
       "      <td>75.794257</td>\n",
       "      <td>26.912328</td>\n",
       "      <td>75.804257</td>\n",
       "      <td>2022-03-24</td>\n",
       "      <td>11:35:00</td>\n",
       "      <td>11:45:00</td>\n",
       "      <td>Windy</td>\n",
       "      <td>High</td>\n",
       "      <td>motorcycle</td>\n",
       "      <td>Metropolitian</td>\n",
       "      <td>160</td>\n",
       "      <td>Home</td>\n",
       "    </tr>\n",
       "    <tr>\n",
       "      <th>43735</th>\n",
       "      <td>aevx342135787</td>\n",
       "      <td>21</td>\n",
       "      <td>4.6</td>\n",
       "      <td>0.000000</td>\n",
       "      <td>0.000000</td>\n",
       "      <td>0.070000</td>\n",
       "      <td>0.070000</td>\n",
       "      <td>2022-02-16</td>\n",
       "      <td>19:55:00</td>\n",
       "      <td>20:10:00</td>\n",
       "      <td>Windy</td>\n",
       "      <td>Jam</td>\n",
       "      <td>motorcycle</td>\n",
       "      <td>Metropolitian</td>\n",
       "      <td>180</td>\n",
       "      <td>Jewelry</td>\n",
       "    </tr>\n",
       "    <tr>\n",
       "      <th>43736</th>\n",
       "      <td>xnek760674819</td>\n",
       "      <td>30</td>\n",
       "      <td>4.9</td>\n",
       "      <td>13.022394</td>\n",
       "      <td>80.242439</td>\n",
       "      <td>13.052394</td>\n",
       "      <td>80.272439</td>\n",
       "      <td>2022-03-11</td>\n",
       "      <td>23:50:00</td>\n",
       "      <td>00:05:00</td>\n",
       "      <td>Cloudy</td>\n",
       "      <td>Low</td>\n",
       "      <td>scooter</td>\n",
       "      <td>Metropolitian</td>\n",
       "      <td>80</td>\n",
       "      <td>Home</td>\n",
       "    </tr>\n",
       "    <tr>\n",
       "      <th>43737</th>\n",
       "      <td>cynl434665991</td>\n",
       "      <td>20</td>\n",
       "      <td>4.7</td>\n",
       "      <td>11.001753</td>\n",
       "      <td>76.986241</td>\n",
       "      <td>11.041753</td>\n",
       "      <td>77.026241</td>\n",
       "      <td>2022-03-07</td>\n",
       "      <td>13:35:00</td>\n",
       "      <td>13:40:00</td>\n",
       "      <td>Cloudy</td>\n",
       "      <td>High</td>\n",
       "      <td>motorcycle</td>\n",
       "      <td>Metropolitian</td>\n",
       "      <td>130</td>\n",
       "      <td>Kitchen</td>\n",
       "    </tr>\n",
       "    <tr>\n",
       "      <th>43738</th>\n",
       "      <td>nsyz997960170</td>\n",
       "      <td>23</td>\n",
       "      <td>4.9</td>\n",
       "      <td>23.351058</td>\n",
       "      <td>85.325731</td>\n",
       "      <td>23.431058</td>\n",
       "      <td>85.405731</td>\n",
       "      <td>2022-03-02</td>\n",
       "      <td>17:10:00</td>\n",
       "      <td>17:15:00</td>\n",
       "      <td>Fog</td>\n",
       "      <td>Medium</td>\n",
       "      <td>scooter</td>\n",
       "      <td>Metropolitian</td>\n",
       "      <td>180</td>\n",
       "      <td>Cosmetics</td>\n",
       "    </tr>\n",
       "  </tbody>\n",
       "</table>\n",
       "<p>43739 rows × 16 columns</p>\n",
       "</div>"
      ],
      "text/plain": [
       "            Order_ID  Agent_Age  Agent_Rating  Store_Latitude  \\\n",
       "0      ialx566343618         37           4.9       22.745049   \n",
       "1      akqg208421122         34           4.5       12.913041   \n",
       "2      njpu434582536         23           4.4       12.914264   \n",
       "3      rjto796129700         38           4.7       11.003669   \n",
       "4      zguw716275638         32           4.6       12.972793   \n",
       "...              ...        ...           ...             ...   \n",
       "43734  jlxf819993117         30           4.8       26.902328   \n",
       "43735  aevx342135787         21           4.6        0.000000   \n",
       "43736  xnek760674819         30           4.9       13.022394   \n",
       "43737  cynl434665991         20           4.7       11.001753   \n",
       "43738  nsyz997960170         23           4.9       23.351058   \n",
       "\n",
       "       Store_Longitude  Drop_Latitude  Drop_Longitude  Order_Date Order_Time  \\\n",
       "0            75.892471      22.765049       75.912471  2022-03-19   11:30:00   \n",
       "1            77.683237      13.043041       77.813237  2022-03-25   19:45:00   \n",
       "2            77.678400      12.924264       77.688400  2022-03-19   08:30:00   \n",
       "3            76.976494      11.053669       77.026494  2022-04-05   18:00:00   \n",
       "4            80.249982      13.012793       80.289982  2022-03-26   13:30:00   \n",
       "...                ...            ...             ...         ...        ...   \n",
       "43734        75.794257      26.912328       75.804257  2022-03-24   11:35:00   \n",
       "43735         0.000000       0.070000        0.070000  2022-02-16   19:55:00   \n",
       "43736        80.242439      13.052394       80.272439  2022-03-11   23:50:00   \n",
       "43737        76.986241      11.041753       77.026241  2022-03-07   13:35:00   \n",
       "43738        85.325731      23.431058       85.405731  2022-03-02   17:10:00   \n",
       "\n",
       "      Pickup_Time     Weather  Traffic      Vehicle            Area  \\\n",
       "0        11:45:00       Sunny    High   motorcycle           Urban    \n",
       "1        19:50:00      Stormy     Jam      scooter   Metropolitian    \n",
       "2        08:45:00  Sandstorms     Low   motorcycle           Urban    \n",
       "3        18:10:00       Sunny  Medium   motorcycle   Metropolitian    \n",
       "4        13:45:00      Cloudy    High      scooter   Metropolitian    \n",
       "...           ...         ...      ...          ...             ...   \n",
       "43734    11:45:00       Windy    High   motorcycle   Metropolitian    \n",
       "43735    20:10:00       Windy     Jam   motorcycle   Metropolitian    \n",
       "43736    00:05:00      Cloudy     Low      scooter   Metropolitian    \n",
       "43737    13:40:00      Cloudy    High   motorcycle   Metropolitian    \n",
       "43738    17:15:00         Fog  Medium      scooter   Metropolitian    \n",
       "\n",
       "       Delivery_Time     Category  \n",
       "0                120     Clothing  \n",
       "1                165  Electronics  \n",
       "2                130       Sports  \n",
       "3                105    Cosmetics  \n",
       "4                150         Toys  \n",
       "...              ...          ...  \n",
       "43734            160         Home  \n",
       "43735            180      Jewelry  \n",
       "43736             80         Home  \n",
       "43737            130      Kitchen  \n",
       "43738            180    Cosmetics  \n",
       "\n",
       "[43739 rows x 16 columns]"
      ]
     },
     "execution_count": 256,
     "metadata": {},
     "output_type": "execute_result"
    }
   ],
   "source": [
    "df = pd.read_csv('dataset.zip')\n",
    "df"
   ]
  },
  {
   "cell_type": "code",
   "execution_count": 257,
   "metadata": {},
   "outputs": [
    {
     "name": "stdout",
     "output_type": "stream",
     "text": [
      "<class 'pandas.core.frame.DataFrame'>\n",
      "RangeIndex: 43739 entries, 0 to 43738\n",
      "Data columns (total 16 columns):\n",
      " #   Column           Non-Null Count  Dtype  \n",
      "---  ------           --------------  -----  \n",
      " 0   Order_ID         43739 non-null  object \n",
      " 1   Agent_Age        43739 non-null  int64  \n",
      " 2   Agent_Rating     43685 non-null  float64\n",
      " 3   Store_Latitude   43739 non-null  float64\n",
      " 4   Store_Longitude  43739 non-null  float64\n",
      " 5   Drop_Latitude    43739 non-null  float64\n",
      " 6   Drop_Longitude   43739 non-null  float64\n",
      " 7   Order_Date       43739 non-null  object \n",
      " 8   Order_Time       43739 non-null  object \n",
      " 9   Pickup_Time      43739 non-null  object \n",
      " 10  Weather          43648 non-null  object \n",
      " 11  Traffic          43739 non-null  object \n",
      " 12  Vehicle          43739 non-null  object \n",
      " 13  Area             43739 non-null  object \n",
      " 14  Delivery_Time    43739 non-null  int64  \n",
      " 15  Category         43739 non-null  object \n",
      "dtypes: float64(5), int64(2), object(9)\n",
      "memory usage: 5.3+ MB\n"
     ]
    }
   ],
   "source": [
    "df.info()"
   ]
  },
  {
   "cell_type": "markdown",
   "metadata": {},
   "source": [
    "Data Cleaning"
   ]
  },
  {
   "cell_type": "code",
   "execution_count": 258,
   "metadata": {},
   "outputs": [
    {
     "name": "stdout",
     "output_type": "stream",
     "text": [
      "Order_ID            0\n",
      "Agent_Age           0\n",
      "Agent_Rating       54\n",
      "Store_Latitude      0\n",
      "Store_Longitude     0\n",
      "Drop_Latitude       0\n",
      "Drop_Longitude      0\n",
      "Order_Date          0\n",
      "Order_Time          0\n",
      "Pickup_Time         0\n",
      "Weather            91\n",
      "Traffic             0\n",
      "Vehicle             0\n",
      "Area                0\n",
      "Delivery_Time       0\n",
      "Category            0\n",
      "dtype: int64\n"
     ]
    }
   ],
   "source": [
    "print(df.isnull().sum())  \n",
    "df.dropna(inplace=True)  "
   ]
  },
  {
   "cell_type": "code",
   "execution_count": 259,
   "metadata": {},
   "outputs": [
    {
     "data": {
      "text/html": [
       "<div>\n",
       "<style scoped>\n",
       "    .dataframe tbody tr th:only-of-type {\n",
       "        vertical-align: middle;\n",
       "    }\n",
       "\n",
       "    .dataframe tbody tr th {\n",
       "        vertical-align: top;\n",
       "    }\n",
       "\n",
       "    .dataframe thead th {\n",
       "        text-align: right;\n",
       "    }\n",
       "</style>\n",
       "<table border=\"1\" class=\"dataframe\">\n",
       "  <thead>\n",
       "    <tr style=\"text-align: right;\">\n",
       "      <th></th>\n",
       "      <th>Order_ID</th>\n",
       "      <th>Agent_Age</th>\n",
       "      <th>Agent_Rating</th>\n",
       "      <th>Store_Latitude</th>\n",
       "      <th>Store_Longitude</th>\n",
       "      <th>Drop_Latitude</th>\n",
       "      <th>Drop_Longitude</th>\n",
       "      <th>Order_Date</th>\n",
       "      <th>Order_Time</th>\n",
       "      <th>Pickup_Time</th>\n",
       "      <th>Weather</th>\n",
       "      <th>Traffic</th>\n",
       "      <th>Vehicle</th>\n",
       "      <th>Area</th>\n",
       "      <th>Delivery_Time</th>\n",
       "      <th>Category</th>\n",
       "    </tr>\n",
       "  </thead>\n",
       "  <tbody>\n",
       "    <tr>\n",
       "      <th>0</th>\n",
       "      <td>ialx566343618</td>\n",
       "      <td>37</td>\n",
       "      <td>4.9</td>\n",
       "      <td>22.745049</td>\n",
       "      <td>75.892471</td>\n",
       "      <td>22.765049</td>\n",
       "      <td>75.912471</td>\n",
       "      <td>2022-03-19</td>\n",
       "      <td>11:30:00</td>\n",
       "      <td>11:45:00</td>\n",
       "      <td>Sunny</td>\n",
       "      <td>High</td>\n",
       "      <td>motorcycle</td>\n",
       "      <td>Urban</td>\n",
       "      <td>120</td>\n",
       "      <td>Clothing</td>\n",
       "    </tr>\n",
       "    <tr>\n",
       "      <th>1</th>\n",
       "      <td>akqg208421122</td>\n",
       "      <td>34</td>\n",
       "      <td>4.5</td>\n",
       "      <td>12.913041</td>\n",
       "      <td>77.683237</td>\n",
       "      <td>13.043041</td>\n",
       "      <td>77.813237</td>\n",
       "      <td>2022-03-25</td>\n",
       "      <td>19:45:00</td>\n",
       "      <td>19:50:00</td>\n",
       "      <td>Stormy</td>\n",
       "      <td>Jam</td>\n",
       "      <td>scooter</td>\n",
       "      <td>Metropolitian</td>\n",
       "      <td>165</td>\n",
       "      <td>Electronics</td>\n",
       "    </tr>\n",
       "    <tr>\n",
       "      <th>2</th>\n",
       "      <td>njpu434582536</td>\n",
       "      <td>23</td>\n",
       "      <td>4.4</td>\n",
       "      <td>12.914264</td>\n",
       "      <td>77.678400</td>\n",
       "      <td>12.924264</td>\n",
       "      <td>77.688400</td>\n",
       "      <td>2022-03-19</td>\n",
       "      <td>08:30:00</td>\n",
       "      <td>08:45:00</td>\n",
       "      <td>Sandstorms</td>\n",
       "      <td>Low</td>\n",
       "      <td>motorcycle</td>\n",
       "      <td>Urban</td>\n",
       "      <td>130</td>\n",
       "      <td>Sports</td>\n",
       "    </tr>\n",
       "    <tr>\n",
       "      <th>3</th>\n",
       "      <td>rjto796129700</td>\n",
       "      <td>38</td>\n",
       "      <td>4.7</td>\n",
       "      <td>11.003669</td>\n",
       "      <td>76.976494</td>\n",
       "      <td>11.053669</td>\n",
       "      <td>77.026494</td>\n",
       "      <td>2022-04-05</td>\n",
       "      <td>18:00:00</td>\n",
       "      <td>18:10:00</td>\n",
       "      <td>Sunny</td>\n",
       "      <td>Medium</td>\n",
       "      <td>motorcycle</td>\n",
       "      <td>Metropolitian</td>\n",
       "      <td>105</td>\n",
       "      <td>Cosmetics</td>\n",
       "    </tr>\n",
       "    <tr>\n",
       "      <th>4</th>\n",
       "      <td>zguw716275638</td>\n",
       "      <td>32</td>\n",
       "      <td>4.6</td>\n",
       "      <td>12.972793</td>\n",
       "      <td>80.249982</td>\n",
       "      <td>13.012793</td>\n",
       "      <td>80.289982</td>\n",
       "      <td>2022-03-26</td>\n",
       "      <td>13:30:00</td>\n",
       "      <td>13:45:00</td>\n",
       "      <td>Cloudy</td>\n",
       "      <td>High</td>\n",
       "      <td>scooter</td>\n",
       "      <td>Metropolitian</td>\n",
       "      <td>150</td>\n",
       "      <td>Toys</td>\n",
       "    </tr>\n",
       "    <tr>\n",
       "      <th>...</th>\n",
       "      <td>...</td>\n",
       "      <td>...</td>\n",
       "      <td>...</td>\n",
       "      <td>...</td>\n",
       "      <td>...</td>\n",
       "      <td>...</td>\n",
       "      <td>...</td>\n",
       "      <td>...</td>\n",
       "      <td>...</td>\n",
       "      <td>...</td>\n",
       "      <td>...</td>\n",
       "      <td>...</td>\n",
       "      <td>...</td>\n",
       "      <td>...</td>\n",
       "      <td>...</td>\n",
       "      <td>...</td>\n",
       "    </tr>\n",
       "    <tr>\n",
       "      <th>43734</th>\n",
       "      <td>jlxf819993117</td>\n",
       "      <td>30</td>\n",
       "      <td>4.8</td>\n",
       "      <td>26.902328</td>\n",
       "      <td>75.794257</td>\n",
       "      <td>26.912328</td>\n",
       "      <td>75.804257</td>\n",
       "      <td>2022-03-24</td>\n",
       "      <td>11:35:00</td>\n",
       "      <td>11:45:00</td>\n",
       "      <td>Windy</td>\n",
       "      <td>High</td>\n",
       "      <td>motorcycle</td>\n",
       "      <td>Metropolitian</td>\n",
       "      <td>160</td>\n",
       "      <td>Home</td>\n",
       "    </tr>\n",
       "    <tr>\n",
       "      <th>43735</th>\n",
       "      <td>aevx342135787</td>\n",
       "      <td>21</td>\n",
       "      <td>4.6</td>\n",
       "      <td>0.000000</td>\n",
       "      <td>0.000000</td>\n",
       "      <td>0.070000</td>\n",
       "      <td>0.070000</td>\n",
       "      <td>2022-02-16</td>\n",
       "      <td>19:55:00</td>\n",
       "      <td>20:10:00</td>\n",
       "      <td>Windy</td>\n",
       "      <td>Jam</td>\n",
       "      <td>motorcycle</td>\n",
       "      <td>Metropolitian</td>\n",
       "      <td>180</td>\n",
       "      <td>Jewelry</td>\n",
       "    </tr>\n",
       "    <tr>\n",
       "      <th>43736</th>\n",
       "      <td>xnek760674819</td>\n",
       "      <td>30</td>\n",
       "      <td>4.9</td>\n",
       "      <td>13.022394</td>\n",
       "      <td>80.242439</td>\n",
       "      <td>13.052394</td>\n",
       "      <td>80.272439</td>\n",
       "      <td>2022-03-11</td>\n",
       "      <td>23:50:00</td>\n",
       "      <td>00:05:00</td>\n",
       "      <td>Cloudy</td>\n",
       "      <td>Low</td>\n",
       "      <td>scooter</td>\n",
       "      <td>Metropolitian</td>\n",
       "      <td>80</td>\n",
       "      <td>Home</td>\n",
       "    </tr>\n",
       "    <tr>\n",
       "      <th>43737</th>\n",
       "      <td>cynl434665991</td>\n",
       "      <td>20</td>\n",
       "      <td>4.7</td>\n",
       "      <td>11.001753</td>\n",
       "      <td>76.986241</td>\n",
       "      <td>11.041753</td>\n",
       "      <td>77.026241</td>\n",
       "      <td>2022-03-07</td>\n",
       "      <td>13:35:00</td>\n",
       "      <td>13:40:00</td>\n",
       "      <td>Cloudy</td>\n",
       "      <td>High</td>\n",
       "      <td>motorcycle</td>\n",
       "      <td>Metropolitian</td>\n",
       "      <td>130</td>\n",
       "      <td>Kitchen</td>\n",
       "    </tr>\n",
       "    <tr>\n",
       "      <th>43738</th>\n",
       "      <td>nsyz997960170</td>\n",
       "      <td>23</td>\n",
       "      <td>4.9</td>\n",
       "      <td>23.351058</td>\n",
       "      <td>85.325731</td>\n",
       "      <td>23.431058</td>\n",
       "      <td>85.405731</td>\n",
       "      <td>2022-03-02</td>\n",
       "      <td>17:10:00</td>\n",
       "      <td>17:15:00</td>\n",
       "      <td>Fog</td>\n",
       "      <td>Medium</td>\n",
       "      <td>scooter</td>\n",
       "      <td>Metropolitian</td>\n",
       "      <td>180</td>\n",
       "      <td>Cosmetics</td>\n",
       "    </tr>\n",
       "  </tbody>\n",
       "</table>\n",
       "<p>43594 rows × 16 columns</p>\n",
       "</div>"
      ],
      "text/plain": [
       "            Order_ID  Agent_Age  Agent_Rating  Store_Latitude  \\\n",
       "0      ialx566343618         37           4.9       22.745049   \n",
       "1      akqg208421122         34           4.5       12.913041   \n",
       "2      njpu434582536         23           4.4       12.914264   \n",
       "3      rjto796129700         38           4.7       11.003669   \n",
       "4      zguw716275638         32           4.6       12.972793   \n",
       "...              ...        ...           ...             ...   \n",
       "43734  jlxf819993117         30           4.8       26.902328   \n",
       "43735  aevx342135787         21           4.6        0.000000   \n",
       "43736  xnek760674819         30           4.9       13.022394   \n",
       "43737  cynl434665991         20           4.7       11.001753   \n",
       "43738  nsyz997960170         23           4.9       23.351058   \n",
       "\n",
       "       Store_Longitude  Drop_Latitude  Drop_Longitude  Order_Date Order_Time  \\\n",
       "0            75.892471      22.765049       75.912471  2022-03-19   11:30:00   \n",
       "1            77.683237      13.043041       77.813237  2022-03-25   19:45:00   \n",
       "2            77.678400      12.924264       77.688400  2022-03-19   08:30:00   \n",
       "3            76.976494      11.053669       77.026494  2022-04-05   18:00:00   \n",
       "4            80.249982      13.012793       80.289982  2022-03-26   13:30:00   \n",
       "...                ...            ...             ...         ...        ...   \n",
       "43734        75.794257      26.912328       75.804257  2022-03-24   11:35:00   \n",
       "43735         0.000000       0.070000        0.070000  2022-02-16   19:55:00   \n",
       "43736        80.242439      13.052394       80.272439  2022-03-11   23:50:00   \n",
       "43737        76.986241      11.041753       77.026241  2022-03-07   13:35:00   \n",
       "43738        85.325731      23.431058       85.405731  2022-03-02   17:10:00   \n",
       "\n",
       "      Pickup_Time     Weather  Traffic      Vehicle            Area  \\\n",
       "0        11:45:00       Sunny    High   motorcycle           Urban    \n",
       "1        19:50:00      Stormy     Jam      scooter   Metropolitian    \n",
       "2        08:45:00  Sandstorms     Low   motorcycle           Urban    \n",
       "3        18:10:00       Sunny  Medium   motorcycle   Metropolitian    \n",
       "4        13:45:00      Cloudy    High      scooter   Metropolitian    \n",
       "...           ...         ...      ...          ...             ...   \n",
       "43734    11:45:00       Windy    High   motorcycle   Metropolitian    \n",
       "43735    20:10:00       Windy     Jam   motorcycle   Metropolitian    \n",
       "43736    00:05:00      Cloudy     Low      scooter   Metropolitian    \n",
       "43737    13:40:00      Cloudy    High   motorcycle   Metropolitian    \n",
       "43738    17:15:00         Fog  Medium      scooter   Metropolitian    \n",
       "\n",
       "       Delivery_Time     Category  \n",
       "0                120     Clothing  \n",
       "1                165  Electronics  \n",
       "2                130       Sports  \n",
       "3                105    Cosmetics  \n",
       "4                150         Toys  \n",
       "...              ...          ...  \n",
       "43734            160         Home  \n",
       "43735            180      Jewelry  \n",
       "43736             80         Home  \n",
       "43737            130      Kitchen  \n",
       "43738            180    Cosmetics  \n",
       "\n",
       "[43594 rows x 16 columns]"
      ]
     },
     "execution_count": 259,
     "metadata": {},
     "output_type": "execute_result"
    }
   ],
   "source": [
    "df"
   ]
  },
  {
   "cell_type": "markdown",
   "metadata": {},
   "source": [
    "Mengubah Format Data (Waktu)"
   ]
  },
  {
   "cell_type": "code",
   "execution_count": 260,
   "metadata": {},
   "outputs": [],
   "source": [
    "df['Order_Time'] = pd.to_datetime(df['Order_Time'], errors='coerce').dt.hour\n",
    "df['Pickup_Time'] = pd.to_datetime(df['Pickup_Time'], errors='coerce').dt.hour"
   ]
  },
  {
   "cell_type": "markdown",
   "metadata": {},
   "source": [
    "Rata-rata waktu pengiriman berdasarkan kendaraan"
   ]
  },
  {
   "cell_type": "code",
   "execution_count": 261,
   "metadata": {},
   "outputs": [
    {
     "name": "stdout",
     "output_type": "stream",
     "text": [
      "       Vehicle  Delivery_Time\n",
      "0  motorcycle      131.028172\n",
      "1     scooter      116.356477\n",
      "2          van     116.140421\n"
     ]
    }
   ],
   "source": [
    "avg_delivery_time = df.groupby(\"Vehicle\")[\"Delivery_Time\"].mean().reset_index()\n",
    "print(avg_delivery_time)\n"
   ]
  },
  {
   "cell_type": "markdown",
   "metadata": {},
   "source": [
    " Distribusi keterlambatan berdasarkan cuaca & lalu lintas"
   ]
  },
  {
   "cell_type": "code",
   "execution_count": 262,
   "metadata": {},
   "outputs": [
    {
     "name": "stdout",
     "output_type": "stream",
     "text": [
      "       Weather  Traffic  Delivery_Time\n",
      "0       Cloudy    High      138.900838\n",
      "1       Cloudy     Jam      174.682884\n",
      "2       Cloudy     Low      106.661246\n",
      "3       Cloudy  Medium      136.680720\n",
      "4          Fog    High      134.935271\n",
      "5          Fog     Jam      174.162437\n",
      "6          Fog     Low      104.924513\n",
      "7          Fog  Medium      132.223706\n",
      "8   Sandstorms    High      131.856932\n",
      "9   Sandstorms     Jam      142.284233\n",
      "10  Sandstorms     Low       96.740564\n",
      "11  Sandstorms  Medium      132.818287\n",
      "12      Stormy    High      131.917251\n",
      "13      Stormy     Jam      142.269708\n",
      "14      Stormy     Low       98.561041\n",
      "15      Stormy  Medium      131.774411\n",
      "16       Sunny    High      110.197203\n",
      "17       Sunny     Jam      108.654260\n",
      "18       Sunny     Low      102.572799\n",
      "19       Sunny  Medium       95.959420\n",
      "20       Windy    High      128.727273\n",
      "21       Windy     Jam      142.866784\n",
      "22       Windy     Low       98.702198\n",
      "23       Windy  Medium      130.673322\n"
     ]
    }
   ],
   "source": [
    "delay_analysis = df.groupby([\"Weather\", \"Traffic\"])[\"Delivery_Time\"].mean().reset_index()\n",
    "print(delay_analysis)"
   ]
  },
  {
   "cell_type": "markdown",
   "metadata": {},
   "source": [
    "Encode variabel kategorikal"
   ]
  },
  {
   "cell_type": "code",
   "execution_count": 263,
   "metadata": {},
   "outputs": [],
   "source": [
    "label_encoders = {}\n",
    "categorical_cols = ['Weather', 'Traffic', 'Vehicle', 'Area', 'Category']\n",
    "for col in categorical_cols:\n",
    "    le = LabelEncoder()\n",
    "    df[col] = le.fit_transform(df[col])\n",
    "    label_encoders[col] = le"
   ]
  },
  {
   "cell_type": "markdown",
   "metadata": {},
   "source": [
    "Analisis Data Eksploratif"
   ]
  },
  {
   "cell_type": "code",
   "execution_count": 264,
   "metadata": {},
   "outputs": [
    {
     "data": {
      "image/png": "[encoded data removed]",
      "text/plain": [
       "<Figure size 576x360 with 1 Axes>"
      ]
     },
     "metadata": {
      "needs_background": "light"
     },
     "output_type": "display_data"
    }
   ],
   "source": [
    "plt.figure(figsize=(8,5))\n",
    "sns.histplot(df['Delivery_Time'], bins=30, kde=True)\n",
    "plt.title(\"Distribusi Waktu Pengiriman\")\n",
    "plt.show()"
   ]
  },
  {
   "cell_type": "code",
   "execution_count": 265,
   "metadata": {},
   "outputs": [
    {
     "data": {
      "image/png": "[encoded data removed]",
      "text/plain": [
       "<Figure size 576x360 with 2 Axes>"
      ]
     },
     "metadata": {
      "needs_background": "light"
     },
     "output_type": "display_data"
    }
   ],
   "source": [
    "plt.figure(figsize=(8,5))\n",
    "sns.heatmap(df.corr(), annot=True, cmap=\"coolwarm\", fmt=\".2f\")\n",
    "plt.title(\"Correlation Matrix\")\n",
    "plt.show()"
   ]
  },
  {
   "cell_type": "code",
   "execution_count": 266,
   "metadata": {},
   "outputs": [
    {
     "data": {
      "image/png": "[encoded data removed]",
      "text/plain": [
       "<Figure size 576x360 with 1 Axes>"
      ]
     },
     "metadata": {
      "needs_background": "light"
     },
     "output_type": "display_data"
    }
   ],
   "source": [
    "plt.figure(figsize=(8,5))\n",
    "sns.boxplot(data=df[['Delivery_Time', 'Order_Time', 'Pickup_Time']])\n",
    "plt.title(\"Boxplot untuk Deteksi Outlier\")\n",
    "plt.show()"
   ]
  },
  {
   "cell_type": "code",
   "execution_count": 267,
   "metadata": {},
   "outputs": [
    {
     "name": "stdout",
     "output_type": "stream",
     "text": [
      "Category Counts:\n",
      "4     2841\n",
      "1     2813\n",
      "7     2793\n",
      "15    2771\n",
      "12    2764\n",
      "13    2762\n",
      "9     2739\n",
      "0     2718\n",
      "14    2708\n",
      "5     2687\n",
      "10    2679\n",
      "6     2678\n",
      "3     2666\n",
      "8     2663\n",
      "2     2657\n",
      "11    2655\n",
      "Name: Category, dtype: int64\n"
     ]
    },
    {
     "data": {
      "image/png": "[encoded data removed]",
      "text/plain": [
       "<Figure size 576x360 with 1 Axes>"
      ]
     },
     "metadata": {
      "needs_background": "light"
     },
     "output_type": "display_data"
    }
   ],
   "source": [
    "# Menghitung jumlah tiap kategori\n",
    "category_counts = df['Category'].value_counts()\n",
    "\n",
    "# Menampilkan hasil dalam bentuk tabel\n",
    "print(\"Category Counts:\")\n",
    "print(category_counts)\n",
    "\n",
    "\n",
    "# Menampilkan visualisasi dengan urutan dari yang terbanyak\n",
    "plt.figure(figsize=(8,5))\n",
    "sns.barplot(x=category_counts.index, y=category_counts.values, order=category_counts.index)\n",
    "plt.xlabel('Category')\n",
    "plt.ylabel('Count')\n",
    "plt.title('Most Common Delivery Categories (Sorted)')\n",
    "plt.xticks(rotation=45)\n",
    "plt.show()\n"
   ]
  },
  {
   "cell_type": "code",
   "execution_count": 268,
   "metadata": {},
   "outputs": [
    {
     "name": "stdout",
     "output_type": "stream",
     "text": [
      "Category\n",
      "3     132.935109\n",
      "8     132.360120\n",
      "14    132.309823\n",
      "12    132.098408\n",
      "0     132.001472\n",
      "13    131.911658\n",
      "10    131.351250\n",
      "11    131.154426\n",
      "9     131.153706\n",
      "1     131.062922\n",
      "6     130.939134\n",
      "4     130.869412\n",
      "7     130.775152\n",
      "2     130.474219\n",
      "15    129.366655\n",
      "5      26.543357\n",
      "Name: Delivery_Time, dtype: float64\n",
      "ANOVA Test p-value: 0.0\n"
     ]
    },
    {
     "data": {
      "image/png": "[encoded data removed]",
      "text/plain": [
       "<Figure size 864x432 with 1 Axes>"
      ]
     },
     "metadata": {
      "needs_background": "light"
     },
     "output_type": "display_data"
    }
   ],
   "source": [
    "category_avg_time = df.groupby('Category')['Delivery_Time'].mean().sort_values(ascending=False)\n",
    "print(category_avg_time)\n",
    "\n",
    "from scipy.stats import f_oneway, kruskal\n",
    "\n",
    "categories = [df[df['Category'] == cat]['Delivery_Time'] for cat in df['Category'].unique()]\n",
    "anova_result = f_oneway(*categories)\n",
    "print(\"ANOVA Test p-value:\", anova_result.pvalue)\n",
    "\n",
    "\n",
    "plt.figure(figsize=(12,6))\n",
    "sns.boxplot(data=df, x='Category', y='Delivery_Time', order=category_counts.index)\n",
    "plt.xticks(rotation=45)\n",
    "plt.xlabel('Category')\n",
    "plt.ylabel('Delivery Time (minutes)')\n",
    "plt.title('Delivery Time Distribution by Category')\n",
    "plt.show()\n"
   ]
  },
  {
   "cell_type": "markdown",
   "metadata": {},
   "source": [
    "Prediksi Keterlambatan"
   ]
  },
  {
   "cell_type": "code",
   "execution_count": 269,
   "metadata": {},
   "outputs": [],
   "source": [
    "df['Late'] = df['Delivery_Time'].apply(lambda x: 1 if x > 30 else 0)\n",
    "features = ['Agent_Age', 'Agent_Rating', 'Order_Time', 'Pickup_Time', 'Weather', 'Traffic', 'Vehicle', 'Area', 'Category']\n",
    "X = df[features]\n",
    "y = df['Late']"
   ]
  },
  {
   "cell_type": "markdown",
   "metadata": {},
   "source": [
    "Standarisasi"
   ]
  },
  {
   "cell_type": "code",
   "execution_count": 270,
   "metadata": {},
   "outputs": [],
   "source": [
    "scaler = StandardScaler()\n",
    "X = scaler.fit_transform(X)"
   ]
  },
  {
   "cell_type": "code",
   "execution_count": 271,
   "metadata": {},
   "outputs": [],
   "source": [
    "X_train, X_test, y_train, y_test = train_test_split(X, y, test_size=0.2, random_state=42)"
   ]
  },
  {
   "cell_type": "code",
   "execution_count": 272,
   "metadata": {},
   "outputs": [],
   "source": [
    "model = RandomForestClassifier(n_estimators=100, max_depth=10, random_state=42)\n",
    "model.fit(X_train, y_train)\n",
    "y_pred = model.predict(X_test)"
   ]
  },
  {
   "cell_type": "markdown",
   "metadata": {},
   "source": [
    "Evaluasi Model"
   ]
  },
  {
   "cell_type": "code",
   "execution_count": 273,
   "metadata": {},
   "outputs": [
    {
     "name": "stdout",
     "output_type": "stream",
     "text": [
      "Accuracy: 0.9942653974079596\n",
      "Classification Report:\n",
      "              precision    recall  f1-score   support\n",
      "\n",
      "           0       0.91      0.95      0.93       360\n",
      "           1       1.00      1.00      1.00      8359\n",
      "\n",
      "    accuracy                           0.99      8719\n",
      "   macro avg       0.96      0.97      0.96      8719\n",
      "weighted avg       0.99      0.99      0.99      8719\n",
      "\n",
      "Confusion Matrix:\n",
      "[[ 343   17]\n",
      " [  33 8326]]\n"
     ]
    }
   ],
   "source": [
    "print(\"Accuracy:\", accuracy_score(y_test, y_pred))\n",
    "print(\"Classification Report:\")\n",
    "print(classification_report(y_test, y_pred))\n",
    "print(\"Confusion Matrix:\")\n",
    "print(confusion_matrix(y_test, y_pred))"
   ]
  },
  {
   "cell_type": "markdown",
   "metadata": {},
   "source": [
    "Export"
   ]
  },
  {
   "cell_type": "code",
   "execution_count": 274,
   "metadata": {},
   "outputs": [
    {
     "name": "stdout",
     "output_type": "stream",
     "text": [
      "        Order_ID  Agent_Age  Agent_Rating  Store_Latitude  Store_Longitude  \\\n",
      "0  ialx566343618         37           4.9       22.745049        75.892471   \n",
      "1  akqg208421122         34           4.5       12.913041        77.683237   \n",
      "2  njpu434582536         23           4.4       12.914264        77.678400   \n",
      "3  rjto796129700         38           4.7       11.003669        76.976494   \n",
      "4  zguw716275638         32           4.6       12.972793        80.249982   \n",
      "\n",
      "   Drop_Latitude  Drop_Longitude  Order_Date  Order_Time  Pickup_Time  \\\n",
      "0      22.765049       75.912471  2022-03-19          11           11   \n",
      "1      13.043041       77.813237  2022-03-25          19           19   \n",
      "2      12.924264       77.688400  2022-03-19           8            8   \n",
      "3      11.053669       77.026494  2022-04-05          18           18   \n",
      "4      13.012793       80.289982  2022-03-26          13           13   \n",
      "\n",
      "      Weather  Traffic      Vehicle            Area  Delivery_Time  \\\n",
      "0       Sunny    High   motorcycle           Urban             120   \n",
      "1      Stormy     Jam      scooter   Metropolitian             165   \n",
      "2  Sandstorms     Low   motorcycle           Urban             130   \n",
      "3       Sunny  Medium   motorcycle   Metropolitian             105   \n",
      "4      Cloudy    High      scooter   Metropolitian             150   \n",
      "\n",
      "      Category  Late  \n",
      "0     Clothing     1  \n",
      "1  Electronics     1  \n",
      "2       Sports     1  \n",
      "3    Cosmetics     1  \n",
      "4         Toys     1  \n"
     ]
    }
   ],
   "source": [
    "# Mengembalikan data kategorikal ke format aslinya\n",
    "for col in categorical_cols:\n",
    "    df[col] = label_encoders[col].inverse_transform(df[col])\n",
    "\n",
    "# Cek hasilnya\n",
    "print(df.head())\n"
   ]
  },
  {
   "cell_type": "code",
   "execution_count": 276,
   "metadata": {},
   "outputs": [
    {
     "name": "stdout",
     "output_type": "stream",
     "text": [
      "Terlambat      41745\n",
      "Tepat Waktu     1849\n",
      "Name: Late, dtype: int64\n"
     ]
    }
   ],
   "source": [
    "# Ubah nilai numerik ke kategori\n",
    "df['Late'] = df['Late'].map({0: 'Tepat Waktu', 1: 'Terlambat'})\n",
    "\n",
    "# Cek hasil perubahan\n",
    "print(df['Late'].value_counts())\n"
   ]
  },
  {
   "cell_type": "code",
   "execution_count": 278,
   "metadata": {},
   "outputs": [],
   "source": [
    "df.to_csv(\"Dataset.csv\", index=False)"
   ]
  }
 ],
 "metadata": {
  "kernelspec": {
   "display_name": "Python 3",
   "language": "python",
   "name": "python3"
  },
  "language_info": {
   "codemirror_mode": {
    "name": "ipython",
    "version": 3
   },
   "file_extension": ".py",
   "mimetype": "text/x-python",
   "name": "python",
   "nbconvert_exporter": "python",
   "pygments_lexer": "ipython3",
   "version": "3.10.11"
  }
 },
 "nbformat": 4,
 "nbformat_minor": 2
}
